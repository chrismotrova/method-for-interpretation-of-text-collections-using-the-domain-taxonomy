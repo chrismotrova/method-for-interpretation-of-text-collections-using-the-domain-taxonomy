{
 "cells": [
  {
   "cell_type": "code",
   "execution_count": 93,
   "id": "05397bd5",
   "metadata": {},
   "outputs": [],
   "source": [
    "import numpy as np\n",
    "import pandas as pd"
   ]
  },
  {
   "cell_type": "code",
   "execution_count": 94,
   "id": "fb61d957",
   "metadata": {},
   "outputs": [
    {
     "data": {
      "text/html": [
       "<div>\n",
       "<style scoped>\n",
       "    .dataframe tbody tr th:only-of-type {\n",
       "        vertical-align: middle;\n",
       "    }\n",
       "\n",
       "    .dataframe tbody tr th {\n",
       "        vertical-align: top;\n",
       "    }\n",
       "\n",
       "    .dataframe thead th {\n",
       "        text-align: right;\n",
       "    }\n",
       "</style>\n",
       "<table border=\"1\" class=\"dataframe\">\n",
       "  <thead>\n",
       "    <tr style=\"text-align: right;\">\n",
       "      <th></th>\n",
       "      <th>1</th>\n",
       "      <th>k</th>\n",
       "      <th>Название проекта</th>\n",
       "      <th>Unnamed: 3</th>\n",
       "      <th>Тип</th>\n",
       "      <th>Руководитель направления</th>\n",
       "      <th>Руководитель проекта</th>\n",
       "      <th>Консультант/ куратор</th>\n",
       "      <th>Команда проекта</th>\n",
       "      <th>Описание проекта</th>\n",
       "    </tr>\n",
       "  </thead>\n",
       "  <tbody>\n",
       "    <tr>\n",
       "      <th>0</th>\n",
       "      <td>NaN</td>\n",
       "      <td>NaN</td>\n",
       "      <td>NaN</td>\n",
       "      <td>NaN</td>\n",
       "      <td>NaN</td>\n",
       "      <td>NaN</td>\n",
       "      <td>NaN</td>\n",
       "      <td>NaN</td>\n",
       "      <td>NaN</td>\n",
       "      <td>NaN</td>\n",
       "    </tr>\n",
       "    <tr>\n",
       "      <th>1</th>\n",
       "      <td>2.0</td>\n",
       "      <td>1.0</td>\n",
       "      <td>Изучение транспорта заряженных коллоидных част...</td>\n",
       "      <td>NaN</td>\n",
       "      <td>НИР</td>\n",
       "      <td>Буровский Евгений Андреевич</td>\n",
       "      <td>Бараш Лев Юрьевич</td>\n",
       "      <td>NaN</td>\n",
       "      <td>1 вакансия</td>\n",
       "      <td>https://docs.google.com/document/d/1JeYBSshdot...</td>\n",
       "    </tr>\n",
       "    <tr>\n",
       "      <th>2</th>\n",
       "      <td>3.0</td>\n",
       "      <td>2.0</td>\n",
       "      <td>Изучение конвекции Марангони и транспорта колл...</td>\n",
       "      <td>NaN</td>\n",
       "      <td>НИР</td>\n",
       "      <td>Буровский Евгений Андреевич</td>\n",
       "      <td>Бараш Лев Юрьевич</td>\n",
       "      <td>NaN</td>\n",
       "      <td>1 вакансия</td>\n",
       "      <td>https://docs.google.com/document/d/1JeYBSshdot...</td>\n",
       "    </tr>\n",
       "    <tr>\n",
       "      <th>3</th>\n",
       "      <td>4.0</td>\n",
       "      <td>3.0</td>\n",
       "      <td>Разработка программного комплекса решения эндш...</td>\n",
       "      <td>NaN</td>\n",
       "      <td>НИР</td>\n",
       "      <td>Буровский Евгений Андреевич</td>\n",
       "      <td>Бараш Лев Юрьевич</td>\n",
       "      <td>NaN</td>\n",
       "      <td>1 вакансия</td>\n",
       "      <td>https://docs.google.com/document/d/1JeYBSshdot...</td>\n",
       "    </tr>\n",
       "    <tr>\n",
       "      <th>4</th>\n",
       "      <td>5.0</td>\n",
       "      <td>4.0</td>\n",
       "      <td>Программа объединения точек платежей для проти...</td>\n",
       "      <td>NaN</td>\n",
       "      <td>Прогр.</td>\n",
       "      <td>Давыдов Вячеслав Анатольевич</td>\n",
       "      <td>NaN</td>\n",
       "      <td>Воробьев Иван Александрович</td>\n",
       "      <td>3 вакансии</td>\n",
       "      <td>https://docs.google.com/document/d/1LOI74I-abN...</td>\n",
       "    </tr>\n",
       "  </tbody>\n",
       "</table>\n",
       "</div>"
      ],
      "text/plain": [
       "     1    k                                   Название проекта  Unnamed: 3  \\\n",
       "0  NaN  NaN                                                NaN         NaN   \n",
       "1  2.0  1.0  Изучение транспорта заряженных коллоидных част...         NaN   \n",
       "2  3.0  2.0  Изучение конвекции Марангони и транспорта колл...         NaN   \n",
       "3  4.0  3.0  Разработка программного комплекса решения эндш...         NaN   \n",
       "4  5.0  4.0  Программа объединения точек платежей для проти...         NaN   \n",
       "\n",
       "      Тип      Руководитель направления Руководитель проекта  \\\n",
       "0     NaN                           NaN                  NaN   \n",
       "1     НИР   Буровский Евгений Андреевич    Бараш Лев Юрьевич   \n",
       "2     НИР   Буровский Евгений Андреевич    Бараш Лев Юрьевич   \n",
       "3     НИР   Буровский Евгений Андреевич    Бараш Лев Юрьевич   \n",
       "4  Прогр.  Давыдов Вячеслав Анатольевич                  NaN   \n",
       "\n",
       "          Консультант/ куратор Команда проекта  \\\n",
       "0                          NaN             NaN   \n",
       "1                          NaN      1 вакансия   \n",
       "2                          NaN      1 вакансия   \n",
       "3                          NaN      1 вакансия   \n",
       "4  Воробьев Иван Александрович      3 вакансии   \n",
       "\n",
       "                                    Описание проекта  \n",
       "0                                                NaN  \n",
       "1  https://docs.google.com/document/d/1JeYBSshdot...  \n",
       "2  https://docs.google.com/document/d/1JeYBSshdot...  \n",
       "3  https://docs.google.com/document/d/1JeYBSshdot...  \n",
       "4  https://docs.google.com/document/d/1LOI74I-abN...  "
      ]
     },
     "execution_count": 94,
     "metadata": {},
     "output_type": "execute_result"
    }
   ],
   "source": [
    "df = pd.read_csv('proj.csv', header=1)\n",
    "df.head()"
   ]
  },
  {
   "cell_type": "code",
   "execution_count": 95,
   "id": "6aa343ff",
   "metadata": {},
   "outputs": [
    {
     "data": {
      "text/html": [
       "<div>\n",
       "<style scoped>\n",
       "    .dataframe tbody tr th:only-of-type {\n",
       "        vertical-align: middle;\n",
       "    }\n",
       "\n",
       "    .dataframe tbody tr th {\n",
       "        vertical-align: top;\n",
       "    }\n",
       "\n",
       "    .dataframe thead th {\n",
       "        text-align: right;\n",
       "    }\n",
       "</style>\n",
       "<table border=\"1\" class=\"dataframe\">\n",
       "  <thead>\n",
       "    <tr style=\"text-align: right;\">\n",
       "      <th></th>\n",
       "      <th>k</th>\n",
       "      <th>Название проекта</th>\n",
       "      <th>Тип</th>\n",
       "    </tr>\n",
       "  </thead>\n",
       "  <tbody>\n",
       "    <tr>\n",
       "      <th>1</th>\n",
       "      <td>1.0</td>\n",
       "      <td>Изучение транспорта заряженных коллоидных част...</td>\n",
       "      <td>НИР</td>\n",
       "    </tr>\n",
       "    <tr>\n",
       "      <th>2</th>\n",
       "      <td>2.0</td>\n",
       "      <td>Изучение конвекции Марангони и транспорта колл...</td>\n",
       "      <td>НИР</td>\n",
       "    </tr>\n",
       "    <tr>\n",
       "      <th>3</th>\n",
       "      <td>3.0</td>\n",
       "      <td>Разработка программного комплекса решения эндш...</td>\n",
       "      <td>НИР</td>\n",
       "    </tr>\n",
       "    <tr>\n",
       "      <th>4</th>\n",
       "      <td>4.0</td>\n",
       "      <td>Программа объединения точек платежей для проти...</td>\n",
       "      <td>Прогр.</td>\n",
       "    </tr>\n",
       "    <tr>\n",
       "      <th>5</th>\n",
       "      <td>5.0</td>\n",
       "      <td>Антифрод (antifraud)</td>\n",
       "      <td>Прогр.</td>\n",
       "    </tr>\n",
       "  </tbody>\n",
       "</table>\n",
       "</div>"
      ],
      "text/plain": [
       "     k                                   Название проекта     Тип\n",
       "1  1.0  Изучение транспорта заряженных коллоидных част...     НИР\n",
       "2  2.0  Изучение конвекции Марангони и транспорта колл...     НИР\n",
       "3  3.0  Разработка программного комплекса решения эндш...     НИР\n",
       "4  4.0  Программа объединения точек платежей для проти...  Прогр.\n",
       "5  5.0                               Антифрод (antifraud)  Прогр."
      ]
     },
     "execution_count": 95,
     "metadata": {},
     "output_type": "execute_result"
    }
   ],
   "source": [
    "df = df.drop(columns=['1', 'Unnamed: 3', 'Руководитель направления','Руководитель проекта','Консультант/ куратор','Команда проекта','Описание проекта'])\n",
    "df = df.dropna(subset=['k'])\n",
    "df.head()"
   ]
  },
  {
   "cell_type": "code",
   "execution_count": 96,
   "id": "715877fa",
   "metadata": {},
   "outputs": [],
   "source": [
    "df = df.rename(columns={'k': 'num', 'Название проекта': 'title', 'Тип': 'type'})"
   ]
  },
  {
   "cell_type": "code",
   "execution_count": 100,
   "id": "e45998ac",
   "metadata": {},
   "outputs": [
    {
     "data": {
      "text/plain": [
       "array(['НИР', 'Прогр.', 'Прогр-аппарат.', 'empty'], dtype=object)"
      ]
     },
     "execution_count": 100,
     "metadata": {},
     "output_type": "execute_result"
    }
   ],
   "source": [
    "df.type.unique()"
   ]
  },
  {
   "cell_type": "code",
   "execution_count": 99,
   "id": "0c2d17c4",
   "metadata": {},
   "outputs": [],
   "source": [
    "df['type'] = df['type'].fillna('empty')"
   ]
  },
  {
   "cell_type": "code",
   "execution_count": 101,
   "id": "8a099d82",
   "metadata": {},
   "outputs": [],
   "source": [
    "all_categories = df.type.values.tolist()"
   ]
  },
  {
   "cell_type": "code",
   "execution_count": 104,
   "id": "0e03fef9",
   "metadata": {},
   "outputs": [
    {
     "data": {
      "image/png": "[encoded data removed]",
      "text/plain": [
       "<Figure size 720x576 with 1 Axes>"
      ]
     },
     "metadata": {
      "needs_background": "light"
     },
     "output_type": "display_data"
    }
   ],
   "source": [
    "from collections import Counter\n",
    "import matplotlib.pyplot as plt\n",
    "\n",
    "plt.figure(figsize=(10, 8))\n",
    "c = Counter(all_categories)\n",
    "plt.xticks(rotation=45)\n",
    "plt.title('Распределение категорий')\n",
    "plt.xlabel('Категории')\n",
    "plt.ylabel('Количество')\n",
    "plt.bar(c.keys(), c.values(), color = \"green\")\n",
    "plt.show()"
   ]
  },
  {
   "cell_type": "code",
   "execution_count": 105,
   "id": "3ad81b28",
   "metadata": {},
   "outputs": [],
   "source": [
    "all_titles = str()\n",
    "\n",
    "for i in df.title:\n",
    "    all_titles += i + ' '"
   ]
  },
  {
   "cell_type": "code",
   "execution_count": 106,
   "id": "c8e2672f",
   "metadata": {},
   "outputs": [],
   "source": [
    "import re\n",
    "\n",
    "all_titles_clean = re.sub('[^A-Za-zA-Яа-я0-9°]+', ' ', all_titles)\n",
    "all_titles_clean = all_titles_clean.replace('\\n', '').lower()"
   ]
  },
  {
   "cell_type": "code",
   "execution_count": 107,
   "id": "fc32f47b",
   "metadata": {},
   "outputs": [],
   "source": [
    "df.to_csv('miem_data.csv', index=False)"
   ]
  },
  {
   "cell_type": "code",
   "execution_count": null,
   "id": "8514f374",
   "metadata": {},
   "outputs": [],
   "source": []
  }
 ],
 "metadata": {
  "kernelspec": {
   "display_name": "Python 3 (ipykernel)",
   "language": "python",
   "name": "python3"
  },
  "language_info": {
   "codemirror_mode": {
    "name": "ipython",
    "version": 3
   },
   "file_extension": ".py",
   "mimetype": "text/x-python",
   "name": "python",
   "nbconvert_exporter": "python",
   "pygments_lexer": "ipython3",
   "version": "3.9.12"
  }
 },
 "nbformat": 4,
 "nbformat_minor": 5
}
