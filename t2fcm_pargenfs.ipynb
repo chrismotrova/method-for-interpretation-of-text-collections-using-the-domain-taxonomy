{
 "cells": [
  {
   "cell_type": "code",
   "execution_count": 1,
   "metadata": {},
   "outputs": [],
   "source": [
    "import pandas as pd"
   ]
  },
  {
   "cell_type": "code",
   "execution_count": 2,
   "metadata": {},
   "outputs": [
    {
     "name": "stdout",
     "output_type": "stream",
     "text": [
      "Index(['id', 'title', 'categories', 'title_tokenized', 'categories_tokenized',\n",
      "       'categories_vectors'],\n",
      "      dtype='object')\n"
     ]
    }
   ],
   "source": [
    "df = pd.read_csv(\"arxiv_embeddings.csv\")\n",
    "print(df.columns)"
   ]
  },
  {
   "cell_type": "code",
   "execution_count": 3,
   "metadata": {},
   "outputs": [],
   "source": [
    "titles = []\n",
    "\n",
    "for a in df['title']:\n",
    "    titles.append(a)"
   ]
  },
  {
   "cell_type": "code",
   "execution_count": 4,
   "metadata": {},
   "outputs": [],
   "source": [
    "import re\n",
    "\n",
    "import numpy as np\n",
    "\n",
    "from east.asts import base\n",
    "\n",
    "\n",
    "def clear_text(text, lowerize=True):\n",
    "\n",
    "    pat = re.compile(r'[^A-Za-z0-9 \\-\\n\\r.,;!?А-Яа-я]+')\n",
    "    cleared_text = re.sub(pat, ' ', text)\n",
    "\n",
    "    if lowerize:\n",
    "        cleared_text = cleared_text.lower()\n",
    "\n",
    "    tokens = cleared_text.split()\n",
    "    return tokens\n",
    "\n",
    "\n",
    "def make_substrings(tokens, k=4):\n",
    "\n",
    "    for i in range(max(len(tokens) - k + 1, 1)):\n",
    "        yield ' '.join(tokens[i:i + k])\n",
    "\n",
    "\n",
    "def get_relevance_matrix(texts, strings):\n",
    "\n",
    "    matrix = np.empty((0, len(strings)), float)\n",
    "    prepared_text_tokens = [clear_text(t) for t in texts]\n",
    "\n",
    "    prepared_string_tokens = [clear_text(s) for s in strings]\n",
    "    prepared_strings = [' '.join(t) for t in prepared_string_tokens]\n",
    "\n",
    "    for text_tokens in prepared_text_tokens:\n",
    "        ast = base.AST.get_ast(list(make_substrings(text_tokens)))\n",
    "        row = np.array([ast.score(s) for s in prepared_strings])\n",
    "        matrix = np.append(matrix, [row], axis=0)\n",
    "\n",
    "    return matrix\n",
    "\n",
    "\n",
    "def save_matrix(matrix):\n",
    "    np.savetxt(\"relevance_matrix.txt\", matrix)"
   ]
  },
  {
   "cell_type": "code",
   "execution_count": 6,
   "metadata": {},
   "outputs": [],
   "source": [
    "with open(\"taxonomy_leaves.txt\") as f:\n",
    "    strings = [l.strip() for l in f.readlines()]"
   ]
  },
  {
   "cell_type": "code",
   "execution_count": 8,
   "metadata": {},
   "outputs": [],
   "source": [
    "relevance_matrix = get_relevance_matrix(titles[:1500], strings)"
   ]
  },
  {
   "cell_type": "code",
   "execution_count": 9,
   "metadata": {},
   "outputs": [],
   "source": [
    "save_matrix(relevance_matrix)"
   ]
  },
  {
   "cell_type": "code",
   "execution_count": 14,
   "metadata": {},
   "outputs": [],
   "source": [
    "from sklearn.metrics.pairwise import euclidean_distances\n",
    "from matplotlib import pyplot as plt"
   ]
  },
  {
   "cell_type": "code",
   "execution_count": 10,
   "metadata": {},
   "outputs": [],
   "source": [
    "class T2FCM: \n",
    "  def __init__(self, X, k, options):\n",
    "    self.expo_lower = options[0]\n",
    "    self.expo_upper = options[1]\n",
    "    max_iter = options[2]\n",
    "    min_impro = options[3]\n",
    "    display = options[4]\n",
    "\n",
    "    data_n = np.size(X, 0);\n",
    "    self.obj_fcn = []\n",
    "\n",
    "    U_lower= np.random.rand(k, data_n)\n",
    "    col_sum_lower = np.sum(U_lower, axis=0)\n",
    "    U_lower =np.divide(U_lower, col_sum_lower)\n",
    "    U_upper = np.random.rand(k, data_n) \n",
    "    col_sum_upper = np.sum(U_upper, axis=0)\n",
    "    U_upper = np.divide(U_upper, col_sum_upper)\n",
    "\n",
    "    for i in range(0, max_iter):\n",
    "          mf_lower = np.power(U_lower, self.expo_lower);\n",
    "          mf_upper = np.power(U_upper,self.expo_upper);\n",
    "\n",
    "          self.center_lower = np.divide(mf_lower@X,(np.sum(mf_lower,axis=1))[:,None]);\n",
    "          self.center_upper = np.divide(mf_upper@X,(np.sum(mf_upper,axis=1))[:,None]);\n",
    "\n",
    "          dist_lower = euclidean_distances(self.center_lower, X);\n",
    "          dist_upper = euclidean_distances(self.center_upper, X);\n",
    "          \n",
    "          tmp_lower = np.power(dist_lower,(-2/(self.expo_lower-1)));\n",
    "          U_m1 = np.divide(tmp_lower, np.sum(tmp_lower,axis=0));\n",
    "          tmp_upper = np.power(dist_upper,(-2/(self.expo_upper-1)));\n",
    "          U_m2 = np.divide(tmp_upper,np.sum(tmp_upper,axis=0));    \n",
    "          \n",
    "          U_lower = np.minimum(U_m1,U_m2);\n",
    "          U_upper = np.maximum(U_m1,U_m2);\n",
    "          U = np.mean(np.array([U_lower,U_upper]), axis=0);\n",
    "          mf = np.power(U,((self.expo_lower+self.expo_upper)/2))\n",
    "\n",
    "          self.center = np.mean(np.array([self.center_lower,self.center_upper]), axis=0);\n",
    "          dist = euclidean_distances(self.center, X)\n",
    "          self.obj_fcn.append(np.sum(np.multiply(np.power(dist,2),mf)))\n",
    "\n",
    "           \n",
    "\n",
    "  def MF_Compute(self, X):\n",
    "    dist_lower = euclidean_distances(self.center_lower, X);\n",
    "    print(self.center_lower)\n",
    "    print(X)\n",
    "    dist_upper = euclidean_distances(self.center_upper, X);\n",
    "    \n",
    "          \n",
    "    tmp_lower = np.power(dist_lower,(-2/(self.expo_lower-1)));\n",
    "    U_m1 = np.divide(tmp_lower, np.sum(tmp_lower,axis=0));\n",
    "    tmp_upper = np.power(dist_upper,(-2/(self.expo_upper-1)));\n",
    "    U_m2 = np.divide(tmp_upper,np.sum(tmp_upper,axis=0));    \n",
    "          \n",
    "    U_lower = np.minimum(U_m1,U_m2);\n",
    "    U_upper = np.maximum(U_m1,U_m2);\n",
    "    U = np.mean(np.array([U_lower,U_upper]), axis=0);\n",
    "    mf = np.power(U,((self.expo_lower+self.expo_upper)/2))\n",
    "    return mf\n",
    "\n",
    "  def predict(self, tst): \n",
    "    dist = euclidean_distances(self.center, tst)\n",
    "    mf = self.MF_Compute(tst)\n",
    "    pred= np.multiply(np.power(dist,2),mf)\n",
    "    return pred"
   ]
  },
  {
   "cell_type": "code",
   "execution_count": 15,
   "metadata": {},
   "outputs": [
    {
     "name": "stdout",
     "output_type": "stream",
     "text": [
      "[[0.12059659 0.13246968 0.10213072 ... 0.16146215 0.09810026 0.14174209]\n",
      " [0.10557846 0.11286283 0.10128963 ... 0.13426767 0.09350745 0.10968517]\n",
      " [0.10559162 0.11288107 0.10129147 ... 0.13429308 0.09351214 0.10971367]]\n",
      "[[0.16612202 0.14682746 0.07035818 ... 0.24566867 0.10412033 0.29437873]\n",
      " [0.16085114 0.12599638 0.11464646 ... 0.12851563 0.08531746 0.12877604]\n",
      " [0.08043448 0.12217257 0.10076248 ... 0.15067566 0.06969176 0.13442662]\n",
      " ...\n",
      " [0.08583774 0.10745316 0.09463981 ... 0.11645072 0.04902425 0.13513014]\n",
      " [0.14300506 0.14101785 0.08572132 ... 0.23290413 0.09907521 0.09556238]\n",
      " [0.08024342 0.1385186  0.13299347 ... 0.19809204 0.09933694 0.05991862]]\n"
     ]
    },
    {
     "data": {
      "text/plain": [
       "array([0, 0, 0, ..., 1, 0, 1])"
      ]
     },
     "execution_count": 15,
     "metadata": {},
     "output_type": "execute_result"
    },
    {
     "data": {
      "image/png": "[encoded data removed]",
      "text/plain": [
       "<Figure size 432x288 with 1 Axes>"
      ]
     },
     "metadata": {
      "needs_background": "light"
     },
     "output_type": "display_data"
    }
   ],
   "source": [
    "k=3\n",
    "opts = [1.5 , 2.5 , 200 , 1e-5, 0]\n",
    "ob = T2FCM(relevance_matrix, k, opts)\n",
    "plt.plot(ob.obj_fcn)\n",
    "dec = ob.predict(relevance_matrix)\n",
    "np.argmax(dec, axis=0)"
   ]
  },
  {
   "cell_type": "code",
   "execution_count": 18,
   "metadata": {},
   "outputs": [],
   "source": [
    "np.savetxt(\"clusters.dat\", dec)"
   ]
  },
  {
   "cell_type": "code",
   "execution_count": 1,
   "metadata": {},
   "outputs": [
    {
     "name": "stdout",
     "output_type": "stream",
     "text": [
      "Number of leaves: 351\n",
      "All positive weights:\n",
      "sample complexity and generalization bounds                  0.84665\n",
      "unsupervised learning and clustering                         0.37642\n",
      "boolean function learning                                    0.37615\n",
      "After transformation:\n",
      "sample complexity and generalization bounds                  0.84665\n",
      "unsupervised learning and clustering                         0.37642\n",
      "boolean function learning                                    0.37615\n",
      "Setting weights for internal nodes\n",
      "Membership in root: 1.00000\n",
      "Pruning tree...\n",
      "Setting gaps...\n",
      "Other parameters setting...\n",
      "ParGenFS main steps...\n",
      "Done. Saving...\n",
      "Table saved in the file: table.csv\n",
      "ete representation saved in the file: taxonomy_tree_lifted.ete\n",
      "ete representation saved.\n",
      "Done.\n"
     ]
    }
   ],
   "source": [
    "!python3 pargenfs.py Data_Science_taxonomy.csv taxonomy_leaves.txt clusters.dat 0"
   ]
  },
  {
   "cell_type": "code",
   "execution_count": 2,
   "metadata": {},
   "outputs": [
    {
     "name": "stdout",
     "output_type": "stream",
     "text": [
      "Number of leaves: 351\r\n",
      "All positive weights:\r\n",
      "sample complexity and generalization bounds                  0.67562\r\n",
      "unsupervised learning and clustering                         0.52144\r\n",
      "boolean function learning                                    0.52119\r\n",
      "After transformation:\r\n",
      "sample complexity and generalization bounds                  0.67562\r\n",
      "unsupervised learning and clustering                         0.52144\r\n",
      "boolean function learning                                    0.52119\r\n",
      "Setting weights for internal nodes\r\n",
      "Membership in root: 1.00000\r\n",
      "Pruning tree...\r\n",
      "Setting gaps...\r\n",
      "Other parameters setting...\r\n",
      "ParGenFS main steps...\r\n",
      "Done. Saving...\r\n",
      "Table saved in the file: table.csv\r\n",
      "ete representation saved in the file: taxonomy_tree_lifted.ete\r\n",
      "ete representation saved.\r\n",
      "Done.\r\n"
     ]
    }
   ],
   "source": [
    "!python3 pargenfs.py Data_Science_taxonomy.csv taxonomy_leaves.txt clusters.dat 1"
   ]
  },
  {
   "cell_type": "code",
   "execution_count": 3,
   "metadata": {},
   "outputs": [
    {
     "name": "stdout",
     "output_type": "stream",
     "text": [
      "Number of leaves: 351\r\n",
      "All positive weights:\r\n",
      "sample complexity and generalization bounds                  0.58502\r\n",
      "unsupervised learning and clustering                         0.57356\r\n",
      "boolean function learning                                    0.57339\r\n",
      "After transformation:\r\n",
      "sample complexity and generalization bounds                  0.58502\r\n",
      "unsupervised learning and clustering                         0.57356\r\n",
      "boolean function learning                                    0.57339\r\n",
      "Setting weights for internal nodes\r\n",
      "Membership in root: 1.00000\r\n",
      "Pruning tree...\r\n",
      "Setting gaps...\r\n",
      "Other parameters setting...\r\n",
      "ParGenFS main steps...\r\n",
      "Done. Saving...\r\n",
      "Table saved in the file: table.csv\r\n",
      "ete representation saved in the file: taxonomy_tree_lifted.ete\r\n",
      "ete representation saved.\r\n",
      "Done.\r\n"
     ]
    }
   ],
   "source": [
    "!python3 pargenfs.py Data_Science_taxonomy.csv taxonomy_leaves.txt clusters.dat 2"
   ]
  },
  {
   "cell_type": "code",
   "execution_count": null,
   "metadata": {},
   "outputs": [],
   "source": []
  }
 ],
 "metadata": {
  "kernelspec": {
   "display_name": "Python 3",
   "language": "python",
   "name": "python3"
  },
  "language_info": {
   "codemirror_mode": {
    "name": "ipython",
    "version": 3
   },
   "file_extension": ".py",
   "mimetype": "text/x-python",
   "name": "python",
   "nbconvert_exporter": "python",
   "pygments_lexer": "ipython3",
   "version": "3.7.4"
  }
 },
 "nbformat": 4,
 "nbformat_minor": 5
}
